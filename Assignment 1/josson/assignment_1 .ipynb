{
  "nbformat": 4,
  "nbformat_minor": 0,
  "metadata": {
    "colab": {
      "name": "assignment_1.ipynb",
      "version": "0.3.2",
      "provenance": [],
      "collapsed_sections": []
    },
    "kernelspec": {
      "name": "python3",
      "display_name": "Python 3"
    }
  },
  "cells": [
    {
      "cell_type": "code",
      "metadata": {
        "id": "CpxrM7ouk3pl",
        "colab_type": "code",
        "colab": {}
      },
      "source": [
        "import pandas as pd\n",
        "url = 'https://raw.githubusercontent.com/ACM-NITK/Machine-Learning-SMP-2019/master/Assignment%201/PL18-19.csv'\n",
        "df = pd.read_csv(url)\n",
        "df.columns = ['Date', 'Home Team', 'Away Team', 'Home Team Goals', 'Away Team Goals', 'Result', 'Half Time Home Team Goals', 'Half Time Away Team Goals',\n",
        "       'Half Time Result', 'Referee', 'Home Team Shots', 'Away Team Shots', 'Home Team Shots On Target', 'Away Team Shots On Target', 'Home Team Fouls', 'Away Team Fouls', 'Home Team Corners', 'Away Team Corners',\n",
        "       'Home Team Yellow Cards', 'Away Team Yellow Cards', 'Home Team Red Cards', 'Away Team Red Cards']"
      ],
      "execution_count": 0,
      "outputs": []
    },
    {
      "cell_type": "code",
      "metadata": {
        "id": "ezYV65Glo64H",
        "colab_type": "code",
        "outputId": "db1a7be8-cb60-4844-8981-1f823bf90fe0",
        "colab": {
          "base_uri": "https://localhost:8080/",
          "height": 54
        }
      },
      "source": [
        "a=df[\"Home Team\"].unique()\n",
        "print(sorted(a))"
      ],
      "execution_count": 2,
      "outputs": [
        {
          "output_type": "stream",
          "text": [
            "['Arsenal', 'Bournemouth', 'Brighton', 'Burnley', 'Cardiff', 'Chelsea', 'Crystal Palace', 'Everton', 'Fulham', 'Huddersfield', 'Leicester', 'Liverpool', 'Man City', 'Man United', 'Newcastle', 'Southampton', 'Tottenham', 'Watford', 'West Ham', 'Wolves']\n"
          ],
          "name": "stdout"
        }
      ]
    },
    {
      "cell_type": "code",
      "metadata": {
        "id": "41sbnVjzsFSo",
        "colab_type": "code",
        "outputId": "0eb34ae2-d629-4070-e379-25c1d6d8c6fc",
        "colab": {
          "base_uri": "https://localhost:8080/",
          "height": 34
        }
      },
      "source": [
        "df[\"Total Shots\"]=df[\"Home Team Shots\"]+df[\"Away Team Shots\"]\n",
        "df[\"Total Shots\"].max()"
      ],
      "execution_count": 3,
      "outputs": [
        {
          "output_type": "execute_result",
          "data": {
            "text/plain": [
              "42"
            ]
          },
          "metadata": {
            "tags": []
          },
          "execution_count": 3
        }
      ]
    },
    {
      "cell_type": "code",
      "metadata": {
        "id": "Fwa4l9aqtqfs",
        "colab_type": "code",
        "outputId": "4f5f8a6e-a3eb-4dce-a44d-d8bb6d3b5a3e",
        "colab": {
          "base_uri": "https://localhost:8080/",
          "height": 34
        }
      },
      "source": [
        "df[\"Total Shots On Target\"]=df[\"Home Team Shots On Target\"]+df[\"Away Team Shots On Target\"]\n",
        "ratio = df[\"Total Shots On Target\"].mean()/df[\"Total Shots\"].mean()\n",
        "print(ratio)"
      ],
      "execution_count": 4,
      "outputs": [
        {
          "output_type": "stream",
          "text": [
            "0.3437760199833472\n"
          ],
          "name": "stdout"
        }
      ]
    },
    {
      "cell_type": "code",
      "metadata": {
        "id": "42YVGkRBu2tQ",
        "colab_type": "code",
        "outputId": "ade32738-e879-48ae-9ee4-5768edf7f1f0",
        "colab": {
          "base_uri": "https://localhost:8080/",
          "height": 639
        }
      },
      "source": [
        "df[\"Total Cards\"] = df[\"Home Team Yellow Cards\"] + df[\"Away Team Yellow Cards\"] + df[\"Home Team Red Cards\"] + df[\"Away Team Red Cards\"]\n",
        "df.iloc[:,[9,24]].groupby('Referee').sum()"
      ],
      "execution_count": 5,
      "outputs": [
        {
          "output_type": "execute_result",
          "data": {
            "text/html": [
              "<div>\n",
              "<style scoped>\n",
              "    .dataframe tbody tr th:only-of-type {\n",
              "        vertical-align: middle;\n",
              "    }\n",
              "\n",
              "    .dataframe tbody tr th {\n",
              "        vertical-align: top;\n",
              "    }\n",
              "\n",
              "    .dataframe thead th {\n",
              "        text-align: right;\n",
              "    }\n",
              "</style>\n",
              "<table border=\"1\" class=\"dataframe\">\n",
              "  <thead>\n",
              "    <tr style=\"text-align: right;\">\n",
              "      <th></th>\n",
              "      <th>Total Cards</th>\n",
              "    </tr>\n",
              "    <tr>\n",
              "      <th>Referee</th>\n",
              "      <th></th>\n",
              "    </tr>\n",
              "  </thead>\n",
              "  <tbody>\n",
              "    <tr>\n",
              "      <th>A Madley</th>\n",
              "      <td>2</td>\n",
              "    </tr>\n",
              "    <tr>\n",
              "      <th>A Marriner</th>\n",
              "      <td>76</td>\n",
              "    </tr>\n",
              "    <tr>\n",
              "      <th>A Taylor</th>\n",
              "      <td>103</td>\n",
              "    </tr>\n",
              "    <tr>\n",
              "      <th>C Kavanagh</th>\n",
              "      <td>76</td>\n",
              "    </tr>\n",
              "    <tr>\n",
              "      <th>C Pawson</th>\n",
              "      <td>99</td>\n",
              "    </tr>\n",
              "    <tr>\n",
              "      <th>D Coote</th>\n",
              "      <td>35</td>\n",
              "    </tr>\n",
              "    <tr>\n",
              "      <th>G Scott</th>\n",
              "      <td>39</td>\n",
              "    </tr>\n",
              "    <tr>\n",
              "      <th>J Linington</th>\n",
              "      <td>4</td>\n",
              "    </tr>\n",
              "    <tr>\n",
              "      <th>J Moss</th>\n",
              "      <td>98</td>\n",
              "    </tr>\n",
              "    <tr>\n",
              "      <th>K Friend</th>\n",
              "      <td>92</td>\n",
              "    </tr>\n",
              "    <tr>\n",
              "      <th>L Mason</th>\n",
              "      <td>64</td>\n",
              "    </tr>\n",
              "    <tr>\n",
              "      <th>L Probert</th>\n",
              "      <td>50</td>\n",
              "    </tr>\n",
              "    <tr>\n",
              "      <th>M Atkinson</th>\n",
              "      <td>92</td>\n",
              "    </tr>\n",
              "    <tr>\n",
              "      <th>M Dean</th>\n",
              "      <td>137</td>\n",
              "    </tr>\n",
              "    <tr>\n",
              "      <th>M Oliver</th>\n",
              "      <td>90</td>\n",
              "    </tr>\n",
              "    <tr>\n",
              "      <th>P Tierney</th>\n",
              "      <td>83</td>\n",
              "    </tr>\n",
              "    <tr>\n",
              "      <th>R East</th>\n",
              "      <td>44</td>\n",
              "    </tr>\n",
              "    <tr>\n",
              "      <th>S Attwell</th>\n",
              "      <td>64</td>\n",
              "    </tr>\n",
              "    <tr>\n",
              "      <th>S Hooper</th>\n",
              "      <td>20</td>\n",
              "    </tr>\n",
              "  </tbody>\n",
              "</table>\n",
              "</div>"
            ],
            "text/plain": [
              "             Total Cards\n",
              "Referee                 \n",
              "A Madley               2\n",
              "A Marriner            76\n",
              "A Taylor             103\n",
              "C Kavanagh            76\n",
              "C Pawson              99\n",
              "D Coote               35\n",
              "G Scott               39\n",
              "J Linington            4\n",
              "J Moss                98\n",
              "K Friend              92\n",
              "L Mason               64\n",
              "L Probert             50\n",
              "M Atkinson            92\n",
              "M Dean               137\n",
              "M Oliver              90\n",
              "P Tierney             83\n",
              "R East                44\n",
              "S Attwell             64\n",
              "S Hooper              20"
            ]
          },
          "metadata": {
            "tags": []
          },
          "execution_count": 5
        }
      ]
    },
    {
      "cell_type": "code",
      "metadata": {
        "id": "4TESafKT6hDM",
        "colab_type": "code",
        "outputId": "e9f980a5-4fcb-4083-e019-393b2c70929e",
        "colab": {
          "base_uri": "https://localhost:8080/",
          "height": 34
        }
      },
      "source": [
        "df[\"Total Home Cards\"] = df[\"Home Team Yellow Cards\"] + df[\"Home Team Red Cards\"]\n",
        "df[\"Total Away Cards\"] = df[\"Away Team Yellow Cards\"] + df[\"Away Team Red Cards\"]\n",
        "b = df.iloc[:,[1,25]]\n",
        "c = df.iloc[:,[2,26]]\n",
        "b.columns = [\"team\" , \"Total Home Cards\"]\n",
        "c.columns = [\"team\" , \"Total Away Cards\"]\n",
        "d = b.groupby(\"team\",as_index=False).sum()\n",
        "e = c.groupby(\"team\",as_index=False).sum()\n",
        "f = pd.merge(d,e,on=\"team\")\n",
        "f[\"Total Cards\"] = f[\"Total Home Cards\"] + f[\"Total Away Cards\"]\n",
        "f.sort_values(by='Total Cards', ascending=False).iloc[0,0]\n",
        "\n",
        "\n"
      ],
      "execution_count": 6,
      "outputs": [
        {
          "output_type": "execute_result",
          "data": {
            "text/plain": [
              "'Watford'"
            ]
          },
          "metadata": {
            "tags": []
          },
          "execution_count": 6
        }
      ]
    },
    {
      "cell_type": "code",
      "metadata": {
        "id": "ENCjFbCVVpJq",
        "colab_type": "code",
        "outputId": "c54874d5-59f0-4a9c-e2ee-ad27b6c30b9a",
        "colab": {
          "base_uri": "https://localhost:8080/",
          "height": 34
        }
      },
      "source": [
        "x = {'H':1,'A':0,'D':0}\n",
        "df[\"Home Team Win\"] = df[\"Result\"].map(x)\n",
        "a = df.groupby(\"Referee\",as_index=False).sum()\n",
        "b = a.iloc[:,[0,22]].sort_values(by='Home Team Win',ascending=False)\n",
        "b.iloc[0,0]"
      ],
      "execution_count": 7,
      "outputs": [
        {
          "output_type": "execute_result",
          "data": {
            "text/plain": [
              "'A Taylor'"
            ]
          },
          "metadata": {
            "tags": []
          },
          "execution_count": 7
        }
      ]
    },
    {
      "cell_type": "code",
      "metadata": {
        "id": "tJp2LBuAXt9p",
        "colab_type": "code",
        "outputId": "c22a3d4e-39ad-4792-93d2-0928f553f9cf",
        "colab": {
          "base_uri": "https://localhost:8080/",
          "height": 34
        }
      },
      "source": [
        "df[\"Win at Both\"]=((df[\"Result\"]==df[\"Half Time Result\"]) & (df[\"Result\"]!='D')).astype('bool')\n",
        "a = df.groupby(\"Win at Both\",as_index=False).count()\n",
        "b = a.iloc[:,[0,1]].sort_values(by=\"Win at Both\",ascending=False)\n",
        "p_true = b.iloc[0,1]\n",
        "p_false = b.iloc[1,1]\n",
        "p_total = p_true + p_false\n",
        "print(p_true/p_total*100)"
      ],
      "execution_count": 8,
      "outputs": [
        {
          "output_type": "stream",
          "text": [
            "48.94736842105264\n"
          ],
          "name": "stdout"
        }
      ]
    },
    {
      "cell_type": "code",
      "metadata": {
        "id": "jQenZZeWqBue",
        "colab_type": "code",
        "outputId": "e45414cf-b573-4108-824c-0bd67bdc67e5",
        "colab": {
          "base_uri": "https://localhost:8080/",
          "height": 639
        }
      },
      "source": [
        "#QUESTION 1\n",
        "x = {'H':3,'A':0,'D':1}\n",
        "df[\"Home Team Points\"] =df[\"Result\"].map(x)\n",
        "l = {'H':1,'D':0,'A':0}\n",
        "df[\"Home Team Wins\"] = df[\"Result\"].map(l)\n",
        "l = {'H':0,'D':1,'A':0}\n",
        "df[\"Draws\"] = df[\"Result\"].map(l)\n",
        "l = {'H':0,'D':0,'A':1}\n",
        "df[\"Away Team Wins\"] = df[\"Result\"].map(l)\n",
        "y = {'H':0,'A':3,'D':1}\n",
        "df[\"Away Team Points\"] =df[\"Result\"].map(y)\n",
        "x = df.groupby(\"Home Team\",as_index=False).sum()\n",
        "p = x.loc[:,[\"Home Team\",\"Home Team Points\",\"Home Team Wins\",\"Draws\",\"Away Team Wins\",\"Home Team Goals\",\"Away Team Goals\"]]\n",
        "y =df.groupby(\"Away Team\",as_index=False).sum()\n",
        "q = y.loc[:,[\"Away Team\",\"Away Team Points\",\"Away Team Wins\",\"Draws\",\"Home Team Wins\",\"Away Team Goals\",\"Home Team Goals\"]]\n",
        "p.columns = [\"Team\",\"Team Points\",\"Team Wins\",\"Draws\",\"Team Loss\",\"Goals For\",\"Goals Against\"]\n",
        "q.columns = [\"Team\",\"Team Points\",\"Team Wins\",\"Draws\",\"Team Loss\",\"Goals For\",\"Goals Against\"]\n",
        "f = pd.merge(q,p,on=\"Team\")\n",
        "f[\"Points\"] = f[\"Team Points_x\"]+f[\"Team Points_y\"]\n",
        "f[\"Won\"] = f[\"Team Wins_x\"]+f[\"Team Wins_y\"]\n",
        "f[\"Drawn\"] = f[\"Draws_x\"]+f[\"Draws_y\"]\n",
        "f[\"Lost\"] = f[\"Team Loss_x\"]+f[\"Team Loss_y\"]\n",
        "f[\"Goals For\"] = f[\"Goals For_x\"]+f[\"Goals For_y\"]\n",
        "f[\"Goals Against\"] = f[\"Goals Against_x\"]+f[\"Goals Against_y\"]\n",
        "f[\"Goal Difference\"]=f[\"Goals For\"]-f[\"Goals Against\"]\n",
        "f[\"played\"]=38\n",
        "z = f.loc[:,[\"Team\",\"played\",\"Won\",\"Drawn\",\"Lost\",\"Goals For\",\"Goals Against\",\"Goal Difference\",\"Points\"]]\n",
        "z.sort_values(by=\"Points\",ascending=False)"
      ],
      "execution_count": 9,
      "outputs": [
        {
          "output_type": "execute_result",
          "data": {
            "text/html": [
              "<div>\n",
              "<style scoped>\n",
              "    .dataframe tbody tr th:only-of-type {\n",
              "        vertical-align: middle;\n",
              "    }\n",
              "\n",
              "    .dataframe tbody tr th {\n",
              "        vertical-align: top;\n",
              "    }\n",
              "\n",
              "    .dataframe thead th {\n",
              "        text-align: right;\n",
              "    }\n",
              "</style>\n",
              "<table border=\"1\" class=\"dataframe\">\n",
              "  <thead>\n",
              "    <tr style=\"text-align: right;\">\n",
              "      <th></th>\n",
              "      <th>Team</th>\n",
              "      <th>played</th>\n",
              "      <th>Won</th>\n",
              "      <th>Drawn</th>\n",
              "      <th>Lost</th>\n",
              "      <th>Goals For</th>\n",
              "      <th>Goals Against</th>\n",
              "      <th>Goal Difference</th>\n",
              "      <th>Points</th>\n",
              "    </tr>\n",
              "  </thead>\n",
              "  <tbody>\n",
              "    <tr>\n",
              "      <th>12</th>\n",
              "      <td>Man City</td>\n",
              "      <td>38</td>\n",
              "      <td>32</td>\n",
              "      <td>2</td>\n",
              "      <td>4</td>\n",
              "      <td>95</td>\n",
              "      <td>23</td>\n",
              "      <td>72</td>\n",
              "      <td>98</td>\n",
              "    </tr>\n",
              "    <tr>\n",
              "      <th>11</th>\n",
              "      <td>Liverpool</td>\n",
              "      <td>38</td>\n",
              "      <td>30</td>\n",
              "      <td>7</td>\n",
              "      <td>1</td>\n",
              "      <td>89</td>\n",
              "      <td>22</td>\n",
              "      <td>67</td>\n",
              "      <td>97</td>\n",
              "    </tr>\n",
              "    <tr>\n",
              "      <th>5</th>\n",
              "      <td>Chelsea</td>\n",
              "      <td>38</td>\n",
              "      <td>21</td>\n",
              "      <td>9</td>\n",
              "      <td>8</td>\n",
              "      <td>63</td>\n",
              "      <td>39</td>\n",
              "      <td>24</td>\n",
              "      <td>72</td>\n",
              "    </tr>\n",
              "    <tr>\n",
              "      <th>16</th>\n",
              "      <td>Tottenham</td>\n",
              "      <td>38</td>\n",
              "      <td>23</td>\n",
              "      <td>2</td>\n",
              "      <td>13</td>\n",
              "      <td>67</td>\n",
              "      <td>39</td>\n",
              "      <td>28</td>\n",
              "      <td>71</td>\n",
              "    </tr>\n",
              "    <tr>\n",
              "      <th>0</th>\n",
              "      <td>Arsenal</td>\n",
              "      <td>38</td>\n",
              "      <td>21</td>\n",
              "      <td>7</td>\n",
              "      <td>10</td>\n",
              "      <td>73</td>\n",
              "      <td>51</td>\n",
              "      <td>22</td>\n",
              "      <td>70</td>\n",
              "    </tr>\n",
              "    <tr>\n",
              "      <th>13</th>\n",
              "      <td>Man United</td>\n",
              "      <td>38</td>\n",
              "      <td>19</td>\n",
              "      <td>9</td>\n",
              "      <td>10</td>\n",
              "      <td>65</td>\n",
              "      <td>54</td>\n",
              "      <td>11</td>\n",
              "      <td>66</td>\n",
              "    </tr>\n",
              "    <tr>\n",
              "      <th>19</th>\n",
              "      <td>Wolves</td>\n",
              "      <td>38</td>\n",
              "      <td>16</td>\n",
              "      <td>9</td>\n",
              "      <td>13</td>\n",
              "      <td>47</td>\n",
              "      <td>46</td>\n",
              "      <td>1</td>\n",
              "      <td>57</td>\n",
              "    </tr>\n",
              "    <tr>\n",
              "      <th>7</th>\n",
              "      <td>Everton</td>\n",
              "      <td>38</td>\n",
              "      <td>15</td>\n",
              "      <td>9</td>\n",
              "      <td>14</td>\n",
              "      <td>54</td>\n",
              "      <td>46</td>\n",
              "      <td>8</td>\n",
              "      <td>54</td>\n",
              "    </tr>\n",
              "    <tr>\n",
              "      <th>18</th>\n",
              "      <td>West Ham</td>\n",
              "      <td>38</td>\n",
              "      <td>15</td>\n",
              "      <td>7</td>\n",
              "      <td>16</td>\n",
              "      <td>52</td>\n",
              "      <td>55</td>\n",
              "      <td>-3</td>\n",
              "      <td>52</td>\n",
              "    </tr>\n",
              "    <tr>\n",
              "      <th>10</th>\n",
              "      <td>Leicester</td>\n",
              "      <td>38</td>\n",
              "      <td>15</td>\n",
              "      <td>7</td>\n",
              "      <td>16</td>\n",
              "      <td>51</td>\n",
              "      <td>48</td>\n",
              "      <td>3</td>\n",
              "      <td>52</td>\n",
              "    </tr>\n",
              "    <tr>\n",
              "      <th>17</th>\n",
              "      <td>Watford</td>\n",
              "      <td>38</td>\n",
              "      <td>14</td>\n",
              "      <td>8</td>\n",
              "      <td>16</td>\n",
              "      <td>52</td>\n",
              "      <td>59</td>\n",
              "      <td>-7</td>\n",
              "      <td>50</td>\n",
              "    </tr>\n",
              "    <tr>\n",
              "      <th>6</th>\n",
              "      <td>Crystal Palace</td>\n",
              "      <td>38</td>\n",
              "      <td>14</td>\n",
              "      <td>7</td>\n",
              "      <td>17</td>\n",
              "      <td>51</td>\n",
              "      <td>53</td>\n",
              "      <td>-2</td>\n",
              "      <td>49</td>\n",
              "    </tr>\n",
              "    <tr>\n",
              "      <th>1</th>\n",
              "      <td>Bournemouth</td>\n",
              "      <td>38</td>\n",
              "      <td>13</td>\n",
              "      <td>6</td>\n",
              "      <td>19</td>\n",
              "      <td>56</td>\n",
              "      <td>70</td>\n",
              "      <td>-14</td>\n",
              "      <td>45</td>\n",
              "    </tr>\n",
              "    <tr>\n",
              "      <th>14</th>\n",
              "      <td>Newcastle</td>\n",
              "      <td>38</td>\n",
              "      <td>12</td>\n",
              "      <td>9</td>\n",
              "      <td>17</td>\n",
              "      <td>42</td>\n",
              "      <td>48</td>\n",
              "      <td>-6</td>\n",
              "      <td>45</td>\n",
              "    </tr>\n",
              "    <tr>\n",
              "      <th>3</th>\n",
              "      <td>Burnley</td>\n",
              "      <td>38</td>\n",
              "      <td>11</td>\n",
              "      <td>7</td>\n",
              "      <td>20</td>\n",
              "      <td>45</td>\n",
              "      <td>68</td>\n",
              "      <td>-23</td>\n",
              "      <td>40</td>\n",
              "    </tr>\n",
              "    <tr>\n",
              "      <th>15</th>\n",
              "      <td>Southampton</td>\n",
              "      <td>38</td>\n",
              "      <td>9</td>\n",
              "      <td>12</td>\n",
              "      <td>17</td>\n",
              "      <td>45</td>\n",
              "      <td>65</td>\n",
              "      <td>-20</td>\n",
              "      <td>39</td>\n",
              "    </tr>\n",
              "    <tr>\n",
              "      <th>2</th>\n",
              "      <td>Brighton</td>\n",
              "      <td>38</td>\n",
              "      <td>9</td>\n",
              "      <td>9</td>\n",
              "      <td>20</td>\n",
              "      <td>35</td>\n",
              "      <td>60</td>\n",
              "      <td>-25</td>\n",
              "      <td>36</td>\n",
              "    </tr>\n",
              "    <tr>\n",
              "      <th>4</th>\n",
              "      <td>Cardiff</td>\n",
              "      <td>38</td>\n",
              "      <td>10</td>\n",
              "      <td>4</td>\n",
              "      <td>24</td>\n",
              "      <td>34</td>\n",
              "      <td>69</td>\n",
              "      <td>-35</td>\n",
              "      <td>34</td>\n",
              "    </tr>\n",
              "    <tr>\n",
              "      <th>8</th>\n",
              "      <td>Fulham</td>\n",
              "      <td>38</td>\n",
              "      <td>7</td>\n",
              "      <td>5</td>\n",
              "      <td>26</td>\n",
              "      <td>34</td>\n",
              "      <td>81</td>\n",
              "      <td>-47</td>\n",
              "      <td>26</td>\n",
              "    </tr>\n",
              "    <tr>\n",
              "      <th>9</th>\n",
              "      <td>Huddersfield</td>\n",
              "      <td>38</td>\n",
              "      <td>3</td>\n",
              "      <td>7</td>\n",
              "      <td>28</td>\n",
              "      <td>22</td>\n",
              "      <td>76</td>\n",
              "      <td>-54</td>\n",
              "      <td>16</td>\n",
              "    </tr>\n",
              "  </tbody>\n",
              "</table>\n",
              "</div>"
            ],
            "text/plain": [
              "              Team  played  Won  ...  Goals Against  Goal Difference  Points\n",
              "12        Man City      38   32  ...             23               72      98\n",
              "11       Liverpool      38   30  ...             22               67      97\n",
              "5          Chelsea      38   21  ...             39               24      72\n",
              "16       Tottenham      38   23  ...             39               28      71\n",
              "0          Arsenal      38   21  ...             51               22      70\n",
              "13      Man United      38   19  ...             54               11      66\n",
              "19          Wolves      38   16  ...             46                1      57\n",
              "7          Everton      38   15  ...             46                8      54\n",
              "18        West Ham      38   15  ...             55               -3      52\n",
              "10       Leicester      38   15  ...             48                3      52\n",
              "17         Watford      38   14  ...             59               -7      50\n",
              "6   Crystal Palace      38   14  ...             53               -2      49\n",
              "1      Bournemouth      38   13  ...             70              -14      45\n",
              "14       Newcastle      38   12  ...             48               -6      45\n",
              "3          Burnley      38   11  ...             68              -23      40\n",
              "15     Southampton      38    9  ...             65              -20      39\n",
              "2         Brighton      38    9  ...             60              -25      36\n",
              "4          Cardiff      38   10  ...             69              -35      34\n",
              "8           Fulham      38    7  ...             81              -47      26\n",
              "9     Huddersfield      38    3  ...             76              -54      16\n",
              "\n",
              "[20 rows x 9 columns]"
            ]
          },
          "metadata": {
            "tags": []
          },
          "execution_count": 9
        }
      ]
    },
    {
      "cell_type": "code",
      "metadata": {
        "id": "9U6J86YF6yAG",
        "colab_type": "code",
        "colab": {}
      },
      "source": [
        "# QUESTION 2\n",
        "#EXPLORING WITH THIS DATASET I LEARNT MANY NEW FUNCTIONS LIKE GROUPBY().SUM() and UNDERSTOOD THE USE OF MANY FUNCTIONS PROPERLY LIKE LOC,ILOC,SORT_VALUES etc."
      ],
      "execution_count": 0,
      "outputs": []
    }
  ]
}